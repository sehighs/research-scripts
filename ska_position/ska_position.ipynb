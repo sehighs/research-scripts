{
 "cells": [
  {
   "cell_type": "code",
   "execution_count": 1,
   "id": "d74a984b-913d-4712-a5f8-7900c25bf22f",
   "metadata": {},
   "outputs": [],
   "source": [
    "import numpy as np\n",
    "import matplotlib.pyplot as plt\n",
    "from astropy import units as un\n",
    "import astropy\n",
    "%matplotlib inline\n",
    "\n",
    "import pandas as pd\n",
    "from pyproj import Proj, Transformer\n",
    "import utm"
   ]
  },
  {
   "cell_type": "code",
   "execution_count": 2,
   "id": "67d6f7a0-5490-42e4-a6c7-f479ff8c83ff",
   "metadata": {},
   "outputs": [],
   "source": [
    "data=pd.read_excel('ska.xlsx',usecols=[2,3])"
   ]
  },
  {
   "cell_type": "code",
   "execution_count": 4,
   "id": "0f191ae4-a7f8-49e4-be0a-18c63ab570fe",
   "metadata": {},
   "outputs": [
    {
     "data": {
      "text/html": [
       "<div>\n",
       "<style scoped>\n",
       "    .dataframe tbody tr th:only-of-type {\n",
       "        vertical-align: middle;\n",
       "    }\n",
       "\n",
       "    .dataframe tbody tr th {\n",
       "        vertical-align: top;\n",
       "    }\n",
       "\n",
       "    .dataframe thead th {\n",
       "        text-align: right;\n",
       "    }\n",
       "</style>\n",
       "<table border=\"1\" class=\"dataframe\">\n",
       "  <thead>\n",
       "    <tr style=\"text-align: right;\">\n",
       "      <th></th>\n",
       "      <th>Unnamed: 2</th>\n",
       "      <th>Unnamed: 3</th>\n",
       "    </tr>\n",
       "  </thead>\n",
       "  <tbody>\n",
       "    <tr>\n",
       "      <th>0</th>\n",
       "      <td>Longitude</td>\n",
       "      <td>Latitude</td>\n",
       "    </tr>\n",
       "    <tr>\n",
       "      <th>1</th>\n",
       "      <td>116.764448</td>\n",
       "      <td>-26.824722</td>\n",
       "    </tr>\n",
       "    <tr>\n",
       "      <th>2</th>\n",
       "      <td>116.76554</td>\n",
       "      <td>-26.825982</td>\n",
       "    </tr>\n",
       "    <tr>\n",
       "      <th>3</th>\n",
       "      <td>116.76392</td>\n",
       "      <td>-26.824005</td>\n",
       "    </tr>\n",
       "    <tr>\n",
       "      <th>4</th>\n",
       "      <td>116.765123</td>\n",
       "      <td>-26.825198</td>\n",
       "    </tr>\n",
       "    <tr>\n",
       "      <th>...</th>\n",
       "      <td>...</td>\n",
       "      <td>...</td>\n",
       "    </tr>\n",
       "    <tr>\n",
       "      <th>509</th>\n",
       "      <td>116.453122</td>\n",
       "      <td>-26.601151</td>\n",
       "    </tr>\n",
       "    <tr>\n",
       "      <th>510</th>\n",
       "      <td>116.452556</td>\n",
       "      <td>-26.600975</td>\n",
       "    </tr>\n",
       "    <tr>\n",
       "      <th>511</th>\n",
       "      <td>116.453024</td>\n",
       "      <td>-26.600811</td>\n",
       "    </tr>\n",
       "    <tr>\n",
       "      <th>512</th>\n",
       "      <td>116.452198</td>\n",
       "      <td>-26.600761</td>\n",
       "    </tr>\n",
       "    <tr>\n",
       "      <th>513</th>\n",
       "      <td>116.452584</td>\n",
       "      <td>-26.600613</td>\n",
       "    </tr>\n",
       "  </tbody>\n",
       "</table>\n",
       "<p>514 rows × 2 columns</p>\n",
       "</div>"
      ],
      "text/plain": [
       "     Unnamed: 2 Unnamed: 3\n",
       "0     Longitude   Latitude\n",
       "1    116.764448 -26.824722\n",
       "2     116.76554 -26.825982\n",
       "3     116.76392 -26.824005\n",
       "4    116.765123 -26.825198\n",
       "..          ...        ...\n",
       "509  116.453122 -26.601151\n",
       "510  116.452556 -26.600975\n",
       "511  116.453024 -26.600811\n",
       "512  116.452198 -26.600761\n",
       "513  116.452584 -26.600613\n",
       "\n",
       "[514 rows x 2 columns]"
      ]
     },
     "execution_count": 4,
     "metadata": {},
     "output_type": "execute_result"
    }
   ],
   "source": [
    "data"
   ]
  },
  {
   "cell_type": "code",
   "execution_count": 5,
   "id": "77d3bb6c-d4b4-4c62-936e-bcfb3b37d65f",
   "metadata": {},
   "outputs": [
    {
     "data": {
      "text/plain": [
       "array([[116.7655399, -26.82598212],\n",
       "       [116.7639199, -26.82400458],\n",
       "       [116.7651234, -26.82519844],\n",
       "       ...,\n",
       "       [116.4530242, -26.60081122],\n",
       "       [116.4521976, -26.60076065],\n",
       "       [116.4525843, -26.60061336]], dtype=object)"
      ]
     },
     "execution_count": 5,
     "metadata": {},
     "output_type": "execute_result"
    }
   ],
   "source": [
    "data.values[2:]"
   ]
  },
  {
   "cell_type": "code",
   "execution_count": 11,
   "id": "6d3b914f-b8a0-4ac3-ad36-e0dc58f8b78c",
   "metadata": {},
   "outputs": [],
   "source": [
    "centre=data.values[2:298]"
   ]
  },
  {
   "cell_type": "code",
   "execution_count": 12,
   "id": "96469ddd-d0a1-4f54-91ad-b05213e91963",
   "metadata": {},
   "outputs": [],
   "source": [
    "center=data.values[1:2]"
   ]
  },
  {
   "cell_type": "code",
   "execution_count": 13,
   "id": "44f87987-3ad8-4577-80dc-f37302385c46",
   "metadata": {},
   "outputs": [
    {
     "data": {
      "text/plain": [
       "(-26.82472208, 116.7644482)"
      ]
     },
     "execution_count": 13,
     "metadata": {},
     "output_type": "execute_result"
    }
   ],
   "source": [
    "center[:,1][0], center[:,0][0]"
   ]
  },
  {
   "cell_type": "code",
   "execution_count": 14,
   "id": "a83be450-cfb3-40e3-a808-b339293702b7",
   "metadata": {},
   "outputs": [],
   "source": [
    "latlon_data=data.values[2:298]\n",
    "center=data.values[1:2]\n",
    "\n",
    "latitudes = latlon_data[:, 1]\n",
    "longitudes = latlon_data[:, 0]\n",
    "\n",
    "utm_coords = utm.from_latlon(center[:,1][0], center[:,0][0])\n",
    "utm_zone_number = utm_coords[2]\n",
    "\n",
    "\n",
    "\n",
    "wgs84 = Proj(proj='latlong', datum='WGS84')\n",
    "utm_proj = Proj(proj='utm', zone=utm_zone_number, datum='WGS84')\n",
    "\n",
    "\n",
    "transformer_to_utm = Transformer.from_proj(wgs84, utm_proj)\n",
    "\n",
    "\n",
    "origin_easting, origin_northing = transformer_to_utm.transform(center[:,0][0], center[:,1][0])\n",
    "\n",
    "\n",
    "def latlon_to_utm_relative(lat, lon):\n",
    "    easting, northing = transformer_to_utm.transform(lon, lat)\n",
    "    return easting - origin_easting, northing - origin_northing\n",
    "\n",
    "\n",
    "relative_coords = np.array([latlon_to_utm_relative(lat, lon) for lat, lon in zip(latitudes, longitudes)])\n",
    "\n",
    "#relative_coords\n"
   ]
  },
  {
   "cell_type": "code",
   "execution_count": 15,
   "id": "742b58ed-59dc-4742-bb41-96e96dbda1a6",
   "metadata": {},
   "outputs": [
    {
     "data": {
      "image/png": "[encoded data removed]",
      "text/plain": [
       "<Figure size 1000x1000 with 1 Axes>"
      ]
     },
     "metadata": {},
     "output_type": "display_data"
    }
   ],
   "source": [
    "plt.figure(figsize=(10,10))\n",
    "plt.scatter(relative_coords[:, 0], relative_coords[:, 1], c='blue', marker='.')\n",
    "plt.ylim(-40000,40000)\n",
    "plt.xlim(-40000,40000)\n",
    "plt.grid(True)\n",
    "plt.show()"
   ]
  },
  {
   "cell_type": "code",
   "execution_count": 16,
   "id": "4c3e37e7-c068-483c-96fe-6d283311e5f2",
   "metadata": {},
   "outputs": [],
   "source": [
    "np.savetxt('ska_centre.txt',relative_coords)"
   ]
  },
  {
   "cell_type": "code",
   "execution_count": 17,
   "id": "a4f4bf6a-f719-446c-a33a-31b4b2465354",
   "metadata": {},
   "outputs": [],
   "source": [
    "p=np.loadtxt('ska_centre.txt')"
   ]
  },
  {
   "cell_type": "code",
   "execution_count": 18,
   "id": "78575043-b16b-4e2e-8dad-cfc8f6069b8c",
   "metadata": {},
   "outputs": [
    {
     "data": {
      "image/png": "[encoded data removed]",
      "text/plain": [
       "<Figure size 1000x1000 with 1 Axes>"
      ]
     },
     "metadata": {},
     "output_type": "display_data"
    }
   ],
   "source": [
    "plt.figure(figsize=(10,10))\n",
    "plt.scatter(p[:, 0], p[:, 1], c='blue', marker='.')\n",
    "plt.ylim(-2000,2000)\n",
    "plt.xlim(-2000,2000)\n",
    "plt.grid(True)\n",
    "plt.show()"
   ]
  },
  {
   "cell_type": "code",
   "execution_count": 19,
   "id": "a5abdeec-9122-4e96-be37-8ac7542babb4",
   "metadata": {},
   "outputs": [],
   "source": [
    "zeros_column = np.zeros((p.shape[0], 1),dtype=int)"
   ]
  },
  {
   "cell_type": "code",
   "execution_count": 20,
   "id": "a3c5ed1c-0da1-4de2-b1f0-50a0019c834e",
   "metadata": {},
   "outputs": [],
   "source": [
    "p3= np.hstack((p, zeros_column))"
   ]
  },
  {
   "cell_type": "code",
   "execution_count": null,
   "id": "48362380-11b7-478b-96fa-6dcb1bd0751b",
   "metadata": {},
   "outputs": [],
   "source": []
  },
  {
   "cell_type": "code",
   "execution_count": null,
   "id": "4c74a19a-0a5d-49aa-b359-1fd06d60eae7",
   "metadata": {},
   "outputs": [],
   "source": []
  }
 ],
 "metadata": {
  "kernelspec": {
   "display_name": "Python 3 (ipykernel)",
   "language": "python",
   "name": "python3"
  },
  "language_info": {
   "codemirror_mode": {
    "name": "ipython",
    "version": 3
   },
   "file_extension": ".py",
   "mimetype": "text/x-python",
   "name": "python",
   "nbconvert_exporter": "python",
   "pygments_lexer": "ipython3",
   "version": "3.10.14"
  }
 },
 "nbformat": 4,
 "nbformat_minor": 5
}
