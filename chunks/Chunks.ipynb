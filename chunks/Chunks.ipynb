{
 "cells": [
  {
   "cell_type": "code",
   "execution_count": 1,
   "id": "b11e8311-68b2-4b57-b1c4-49d62fe28655",
   "metadata": {},
   "outputs": [],
   "source": [
    "import numpy as np\n",
    "from powerbox.tools import get_power\n",
    "from astropy.cosmology import Planck18 as cosmo\n",
    "import astropy.units as un"
   ]
  },
  {
   "cell_type": "code",
   "execution_count": 2,
   "id": "08aac685-b7e1-48a6-a338-4b19e07cba2e",
   "metadata": {},
   "outputs": [],
   "source": [
    "def compute_power(\n",
    "   box,\n",
    "   length,\n",
    "   n_psbins,\n",
    "   log_bins=True,\n",
    "   ignore_kperp_zero=True,\n",
    "   ignore_kpar_zero=False,\n",
    "   ignore_k_zero=False,\n",
    "):\n",
    "    # Determine the weighting function required from ignoring k's.\n",
    "    k_weights = np.ones(box.shape, dtype=int)\n",
    "    n0 = k_weights.shape[0]\n",
    "    n1 = k_weights.shape[-1]\n",
    "\n",
    "    if ignore_kperp_zero:\n",
    "        k_weights[n0 // 2, n0 // 2, :] = 0\n",
    "    if ignore_kpar_zero:\n",
    "        k_weights[:, :, n1 // 2] = 0\n",
    "    if ignore_k_zero:\n",
    "        k_weights[n0 // 2, n0 // 2, n1 // 2] = 0\n",
    "\n",
    "    res = get_power(\n",
    "        box,\n",
    "        boxlength=length,\n",
    "        bins=n_psbins,\n",
    "        bin_ave=False,\n",
    "        get_variance=True,\n",
    "        log_bins=log_bins,\n",
    "        k_weights=k_weights,\n",
    "    )\n",
    "\n",
    "    res = list(res)\n",
    "    k = res[1]\n",
    "    if log_bins:\n",
    "        k = np.exp((np.log(k[1:]) + np.log(k[:-1])) / 2)\n",
    "    else:\n",
    "        k = (k[1:] + k[:-1]) / 2\n",
    "\n",
    "    res[1] = k\n",
    "    return res\n",
    "def chunk_indices_fre(params, start_redshift, cell_length):\n",
    "    z=[]\n",
    "    f=[]\n",
    "    l=[]\n",
    "    ll=[]\n",
    "    fre21,df,fre_start,fre_low = params\n",
    "    for i in range(int((fre_start-fre_low)/df+1)):\n",
    "        fre=fre_low+i*df\n",
    "        z.append(fre21/fre-1)\n",
    "    z.reverse()\n",
    "    for i in range(int((fre_start-fre_low)/df)):\n",
    "        l.append((cosmo.comoving_distance(z[i+1])-cosmo.comoving_distance(start_redshift))/(cell_length*un.Mpc))\n",
    "        ll.append(round(np.array(l)[i]))\n",
    "        lll = [num for num in ll if num > 0]\n",
    "    return lll\n",
    "def chunk_indices_redshift(params, start_redshift, cell_length):\n",
    "    z=[]\n",
    "    l=[]\n",
    "    ll=[]\n",
    "    zup,zlow,dz = params\n",
    "    for i in range(int((zup-zlow)/dz)):\n",
    "        z.append(zlow+i*dz)\n",
    "    for i in range(int((zup-zlow)/dz)-1):\n",
    "        l.append((cosmo.comoving_distance(z[i+1])-cosmo.comoving_distance(start_redshift))/(cell_length*un.Mpc))\n",
    "        ll.append(round(np.array(l)[i]))\n",
    "        lll = [num for num in ll if num > 0]\n",
    "    return lll\n",
    "def powerspectra(brightness_temp, n_psbins, params, cell_length, min_k=0.1, max_k=1, logk=True):\n",
    "    data = []\n",
    "    #params=fre21,df,fre_start,fre_low\n",
    "    indices =chunk_indices(params)\n",
    "\n",
    "    #if len(chunk_indices) > nchunks:\n",
    "        #chunk_indices = chunk_indices[:-1]\n",
    "    #chunk_indices.append(len(zslice))\n",
    "\n",
    "    for i in range(len(indices)-1):\n",
    "        start = indices[i]\n",
    "        end = indices[i + 1]\n",
    "        chunklen = (end - start) * cell_length #the only not auto parameter it is cell size\n",
    "\n",
    "        power, k, var = compute_power(\n",
    "            brightness_temp[:, :, start:end],\n",
    "            (BOX_LEN, BOX_LEN, chunklen),\n",
    "            n_psbins,\n",
    "            log_bins=logk,\n",
    "        )\n",
    "        data.append({\"k\": k, \"delta\": power * k ** 3 / (2 * np.pi ** 2),\"var\":var**(1/2)* k ** 3 / (2 * np.pi ** 2)})\n",
    "    return data"
   ]
  },
  {
   "cell_type": "code",
   "execution_count": 3,
   "id": "bba84f72-f0b2-4dea-8553-82b9ebdf71ff",
   "metadata": {},
   "outputs": [],
   "source": [
    "param=(1420,8,350,50)"
   ]
  },
  {
   "cell_type": "code",
   "execution_count": 4,
   "id": "6c13279a-c376-4af8-a51a-779f3c46651c",
   "metadata": {},
   "outputs": [],
   "source": [
    "indices =chunk_indices_fre(param, 4, 1.5)"
   ]
  },
  {
   "cell_type": "code",
   "execution_count": 5,
   "id": "01b1cf98-3307-40ad-9ea1-172f1194d049",
   "metadata": {},
   "outputs": [
    {
     "data": {
      "text/plain": [
       "[17,\n",
       " 83,\n",
       " 151,\n",
       " 220,\n",
       " 290,\n",
       " 361,\n",
       " 434,\n",
       " 508,\n",
       " 583,\n",
       " 659,\n",
       " 737,\n",
       " 817,\n",
       " 898,\n",
       " 981,\n",
       " 1066,\n",
       " 1153,\n",
       " 1242,\n",
       " 1334,\n",
       " 1428,\n",
       " 1525,\n",
       " 1625,\n",
       " 1728,\n",
       " 1835,\n",
       " 1946,\n",
       " 2062,\n",
       " 2183,\n",
       " 2310,\n",
       " 2444,\n",
       " 2587,\n",
       " 2739]"
      ]
     },
     "execution_count": 5,
     "metadata": {},
     "output_type": "execute_result"
    }
   ],
   "source": [
    "indices"
   ]
  },
  {
   "cell_type": "code",
   "execution_count": 6,
   "id": "148afce6-7380-4996-b13e-e13dc90688b4",
   "metadata": {},
   "outputs": [],
   "source": [
    "param = (28,3.01,0.5)\n",
    "ind=chunk_indices_redshift(param, 4, 1.5)"
   ]
  },
  {
   "cell_type": "code",
   "execution_count": 7,
   "id": "7db24520-ba1d-4025-8965-96e73267e3d5",
   "metadata": {},
   "outputs": [
    {
     "data": {
      "text/plain": [
       "[5,\n",
       " 223,\n",
       " 413,\n",
       " 582,\n",
       " 732,\n",
       " 867,\n",
       " 989,\n",
       " 1100,\n",
       " 1202,\n",
       " 1296,\n",
       " 1382,\n",
       " 1463,\n",
       " 1538,\n",
       " 1608,\n",
       " 1673,\n",
       " 1735,\n",
       " 1793,\n",
       " 1848,\n",
       " 1899,\n",
       " 1948,\n",
       " 1995,\n",
       " 2039,\n",
       " 2082,\n",
       " 2122,\n",
       " 2160,\n",
       " 2197,\n",
       " 2233,\n",
       " 2266,\n",
       " 2299,\n",
       " 2330,\n",
       " 2360,\n",
       " 2389,\n",
       " 2417,\n",
       " 2444,\n",
       " 2470,\n",
       " 2495,\n",
       " 2519,\n",
       " 2543,\n",
       " 2566,\n",
       " 2588,\n",
       " 2609,\n",
       " 2630,\n",
       " 2650,\n",
       " 2670,\n",
       " 2689,\n",
       " 2708,\n",
       " 2726]"
      ]
     },
     "execution_count": 7,
     "metadata": {},
     "output_type": "execute_result"
    }
   ],
   "source": [
    "ind"
   ]
  },
  {
   "cell_type": "code",
   "execution_count": null,
   "id": "919da1d4-a402-4d78-9171-b9da3b492274",
   "metadata": {},
   "outputs": [],
   "source": []
  }
 ],
 "metadata": {
  "kernelspec": {
   "display_name": "Python 3 (ipykernel)",
   "language": "python",
   "name": "python3"
  },
  "language_info": {
   "codemirror_mode": {
    "name": "ipython",
    "version": 3
   },
   "file_extension": ".py",
   "mimetype": "text/x-python",
   "name": "python",
   "nbconvert_exporter": "python",
   "pygments_lexer": "ipython3",
   "version": "3.10.14"
  }
 },
 "nbformat": 4,
 "nbformat_minor": 5
}
